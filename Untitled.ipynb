{
 "cells": [
  {
   "cell_type": "code",
   "execution_count": null,
   "metadata": {},
   "outputs": [],
   "source": [
    "from PIL import Imag\n",
    "import os,glob\n",
    "import numpy as np\n",
    "from sklearn import cross_validate\n",
    "\n",
    "classes = [\"monkey\", \"cat\", \"dog\"]\n",
    "num_classes = len(classes)\n",
    "image_size = 50\n",
    "\n",
    "#read images\n",
    "X = []\n",
    "Y = []\n",
    "for index, classlabel in enumerate(classes):\n",
    "    photo_dir = \"../image/\" + classlabel\n",
    "    files = glob.glob(photo_dir + \"/*.jpg\")\n",
    "    for i, file in enumerate(files):\n",
    "        if i >= 170:\n",
    "            break\n",
    "        else:\n",
    "            image = Image.open(file)\n",
    "            image = Image.convert('RGB')\n",
    "            image = Image.resize((image_size, image_size))\n",
    "            data = np.asarray(image)\n",
    "            X.append(data)\n",
    "            Y.append(index)\n",
    "\n",
    "    X = np.array(X)\n",
    "    Y = np.array(Y)\n",
    "    \n",
    "\n"
   ]
  },
  {
   "cell_type": "code",
   "execution_count": null,
   "metadata": {},
   "outputs": [],
   "source": []
  }
 ],
 "metadata": {
  "kernelspec": {
   "display_name": "Python 3",
   "language": "python",
   "name": "python3"
  },
  "language_info": {
   "codemirror_mode": {
    "name": "ipython",
    "version": 3
   },
   "file_extension": ".py",
   "mimetype": "text/x-python",
   "name": "python",
   "nbconvert_exporter": "python",
   "pygments_lexer": "ipython3",
   "version": "3.7.6"
  }
 },
 "nbformat": 4,
 "nbformat_minor": 4
}
