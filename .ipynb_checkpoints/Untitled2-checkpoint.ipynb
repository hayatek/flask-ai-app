{
 "cells": [
  {
   "cell_type": "code",
   "execution_count": 61,
   "metadata": {},
   "outputs": [
    {
     "name": "stdout",
     "output_type": "stream",
     "text": [
      "files= 174\n",
      "files= 394\n",
      "files= 400\n"
     ]
    },
    {
     "ename": "ValueError",
     "evalue": "could not broadcast input array from shape (150,150,3) into shape (150,150)",
     "output_type": "error",
     "traceback": [
      "\u001b[0;31m---------------------------------------------------------------------------\u001b[0m",
      "\u001b[0;31mValueError\u001b[0m                                Traceback (most recent call last)",
      "\u001b[0;32m<ipython-input-61-532a1fbb427e>\u001b[0m in \u001b[0;36m<module>\u001b[0;34m\u001b[0m\n\u001b[1;32m     29\u001b[0m             \u001b[0;31m#print(Y)\u001b[0m\u001b[0;34m\u001b[0m\u001b[0;34m\u001b[0m\u001b[0;34m\u001b[0m\u001b[0m\n\u001b[1;32m     30\u001b[0m \u001b[0;34m\u001b[0m\u001b[0m\n\u001b[0;32m---> 31\u001b[0;31m \u001b[0mX\u001b[0m \u001b[0;34m=\u001b[0m \u001b[0mnp\u001b[0m\u001b[0;34m.\u001b[0m\u001b[0marray\u001b[0m\u001b[0;34m(\u001b[0m\u001b[0mX\u001b[0m\u001b[0;34m)\u001b[0m\u001b[0;34m\u001b[0m\u001b[0;34m\u001b[0m\u001b[0m\n\u001b[0m\u001b[1;32m     32\u001b[0m \u001b[0;31m#Y = np.array(Y)\u001b[0m\u001b[0;34m\u001b[0m\u001b[0;34m\u001b[0m\u001b[0;34m\u001b[0m\u001b[0m\n\u001b[1;32m     33\u001b[0m \u001b[0;34m\u001b[0m\u001b[0m\n",
      "\u001b[0;31mValueError\u001b[0m: could not broadcast input array from shape (150,150,3) into shape (150,150)"
     ]
    }
   ],
   "source": [
    "from PIL import Image\n",
    "import os,glob\n",
    "import numpy as np\n",
    "import sklearn\n",
    "\n",
    "classes = [\"monkey\", \"cat\", \"dog\"]\n",
    "num_classes = len(classes)\n",
    "image_size = 50, 50\n",
    "\n",
    "#read images\n",
    "X = []\n",
    "Y = []\n",
    "#print(type(X))\n",
    "for index, classlabel in enumerate(classes):\n",
    "    photo_dir = \"../images/\" + classlabel\n",
    "    files = glob.glob(photo_dir + \"/*.jpg\")\n",
    "    print('files=',len(files))\n",
    "    for i, file in enumerate(files):\n",
    "        if i >= 35:\n",
    "            break\n",
    "        else:\n",
    "            #print(file)\n",
    "            im = Image.open(file)\n",
    "            im.resize(image_size)\n",
    "            data = np.asarray(im)\n",
    "            #print(type(X))\n",
    "            X.append(data)\n",
    "            Y.append(index)\n",
    "            #print(Y)\n",
    "\n",
    "X = np.array(X)\n",
    "#Y = np.array(Y)\n",
    "    \n",
    "\n",
    "\n"
   ]
  },
  {
   "cell_type": "code",
   "execution_count": 60,
   "metadata": {},
   "outputs": [
    {
     "data": {
      "text/plain": [
       "array([[[ 52,  54,  51],\n",
       "        [ 51,  54,  51],\n",
       "        [ 47,  54,  49],\n",
       "        ...,\n",
       "        [ 33,  38,  31],\n",
       "        [ 31,  37,  30],\n",
       "        [ 29,  34,  28]],\n",
       "\n",
       "       [[ 53,  54,  52],\n",
       "        [ 50,  55,  52],\n",
       "        [ 49,  54,  50],\n",
       "        ...,\n",
       "        [ 34,  39,  31],\n",
       "        [ 33,  39,  29],\n",
       "        [ 30,  36,  27]],\n",
       "\n",
       "       [[ 53,  54,  51],\n",
       "        [ 50,  55,  50],\n",
       "        [ 50,  56,  51],\n",
       "        ...,\n",
       "        [ 37,  42,  35],\n",
       "        [ 35,  40,  32],\n",
       "        [ 34,  39,  32]],\n",
       "\n",
       "       ...,\n",
       "\n",
       "       [[191, 187, 183],\n",
       "        [168, 162, 157],\n",
       "        [143, 137, 128],\n",
       "        ...,\n",
       "        [ 80,  70,  60],\n",
       "        [ 90,  79,  68],\n",
       "        [ 94,  84,  75]],\n",
       "\n",
       "       [[180, 179, 176],\n",
       "        [157, 152, 147],\n",
       "        [137, 127, 120],\n",
       "        ...,\n",
       "        [ 77,  66,  56],\n",
       "        [ 78,  68,  57],\n",
       "        [ 83,  73,  65]],\n",
       "\n",
       "       [[166, 165, 161],\n",
       "        [145, 140, 137],\n",
       "        [116, 107,  97],\n",
       "        ...,\n",
       "        [112,  94,  69],\n",
       "        [ 90,  77,  60],\n",
       "        [ 67,  60,  49]]], dtype=uint8)"
      ]
     },
     "execution_count": 60,
     "metadata": {},
     "output_type": "execute_result"
    }
   ],
   "source": [
    "X[35]"
   ]
  },
  {
   "cell_type": "code",
   "execution_count": null,
   "metadata": {},
   "outputs": [],
   "source": []
  }
 ],
 "metadata": {
  "kernelspec": {
   "display_name": "Python 3",
   "language": "python",
   "name": "python3"
  },
  "language_info": {
   "codemirror_mode": {
    "name": "ipython",
    "version": 3
   },
   "file_extension": ".py",
   "mimetype": "text/x-python",
   "name": "python",
   "nbconvert_exporter": "python",
   "pygments_lexer": "ipython3",
   "version": "3.7.6"
  }
 },
 "nbformat": 4,
 "nbformat_minor": 4
}
